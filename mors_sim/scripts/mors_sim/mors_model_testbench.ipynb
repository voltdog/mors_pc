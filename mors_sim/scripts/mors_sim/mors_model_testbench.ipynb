{
 "cells": [
  {
   "cell_type": "code",
   "execution_count": 1,
   "metadata": {},
   "outputs": [
    {
     "name": "stderr",
     "output_type": "stream",
     "text": [
      "pybullet build time: May 20 2022 19:44:17\n"
     ]
    },
    {
     "name": "stdout",
     "output_type": "stream",
     "text": [
      "argv[0]=\n",
      "startThreads creating 1 threads.\n",
      "starting thread 0\n",
      "started thread 0 \n",
      "argc=3\n",
      "argv[0] = --unused\n",
      "argv[1] = \n",
      "argv[2] = --start_demo_name=Physics Server\n",
      "ExampleBrowserThreadFunc started\n",
      "X11 functions dynamically loaded using dlopen/dlsym OK!\n",
      "X11 functions dynamically loaded using dlopen/dlsym OK!\n",
      "Creating context\n",
      "Created GL 3.3 context\n",
      "Direct GLX rendering context obtained\n",
      "Making context current\n",
      "GL_VENDOR=Mesa/X.org\n",
      "GL_RENDERER=llvmpipe (LLVM 12.0.0, 256 bits)\n",
      "GL_VERSION=4.5 (Core Profile) Mesa 21.2.6\n",
      "GL_SHADING_LANGUAGE_VERSION=4.50\n",
      "pthread_getconcurrency()=0\n",
      "Version = 4.5 (Core Profile) Mesa 21.2.6\n",
      "Vendor = Mesa/X.org\n",
      "Renderer = llvmpipe (LLVM 12.0.0, 256 bits)\n",
      "b3Printf: Selected demo: Physics Server\n",
      "startThreads creating 1 threads.\n",
      "starting thread 0\n",
      "started thread 0 \n",
      "MotionThreadFunc thread started\n",
      "ven = Mesa/X.org\n",
      "/home/user/mors_ws/src/mors_pc/mors_sim/urdf/mors.urdf\n",
      "ven = Mesa/X.org\n",
      "b3Printf: b3Warning[examples/Importers/ImportURDFDemo/BulletUrdfImporter.cpp,126]:\n",
      "\n",
      "b3Printf: No inertial data for link, using mass=1, localinertiadiagonal = 1,1,1, identity local inertial frame\n",
      "b3Printf: b3Warning[examples/Importers/ImportURDFDemo/BulletUrdfImporter.cpp,126]:\n",
      "\n",
      "b3Printf: base_link\n",
      "b3Printf: b3Warning[examples/Importers/ImportURDFDemo/BulletUrdfImporter.cpp,126]:\n",
      "\n",
      "b3Printf: No inertial data for link, using mass=1, localinertiadiagonal = 1,1,1, identity local inertial frame\n",
      "b3Printf: b3Warning[examples/Importers/ImportURDFDemo/BulletUrdfImporter.cpp,126]:\n",
      "\n",
      "b3Printf: ef_R1\n",
      "b3Printf: b3Warning[examples/Importers/ImportURDFDemo/BulletUrdfImporter.cpp,126]:\n",
      "\n",
      "b3Printf: No inertial data for link, using mass=1, localinertiadiagonal = 1,1,1, identity local inertial frame\n",
      "b3Printf: b3Warning[examples/Importers/ImportURDFDemo/BulletUrdfImporter.cpp,126]:\n",
      "\n",
      "b3Printf: ef_R2\n",
      "b3Printf: b3Warning[examples/Importers/ImportURDFDemo/BulletUrdfImporter.cpp,126]:\n",
      "\n",
      "b3Printf: No inertial data /home/user/mors_ws/src/mors_pc/mors_sim/urdf/mors.urdf\n",
      "for link, using mass=1, localinertiadiagonal = 1,1,1, identity local inertial frame\n",
      "b3Printf: b3Warning[examples/Importers/ImportURDFDemo/BulletUrdfImporter.cpp,126]:\n",
      "\n",
      "b3Printf: ef_L1\n",
      "b3Printf: b3Warning[examples/Importers/ImportURDFDemo/BulletUrdfImporter.cpp,126]:\n",
      "\n",
      "b3Printf: No inertial data for link, using mass=1, localinertiadiagonal = 1,1,1, identity local inertial frame\n",
      "b3Printf: b3Warning[examples/Importers/ImportURDFDemo/BulletUrdfImporter.cpp,126]:\n",
      "\n",
      "b3Printf: ef_L2\n",
      "b3Printf: b3Warning[examples/Importers/ImportURDFDemo/BulletUrdfImporter.cpp,126]:\n",
      "\n",
      "b3Printf: No inertial data for link, using mass=1, localinertiadiagonal = 1,1,1, identity local inertial frame\n",
      "b3Printf: b3Warning[examples/Importers/ImportURDFDemo/BulletUrdfImporter.cpp,126]:\n",
      "\n",
      "b3Printf: base_link\n",
      "b3Printf: b3Warning[examples/Importers/ImportURDFDemo/BulletUrdfImporter.cpp,126]:\n",
      "\n",
      "b3Printf: No inertial data for link, using mass=1, localinertiadiagonal = 1,1,1, identity local inertial frame\n",
      "b3Printf: b3Warning[examples/Importers/ImportURDFDemo/BulletUrdfImporter.cpp,126]:\n",
      "\n",
      "b3Printf: ef_R1\n",
      "b3Printf: b3Warning[examples/Importers/ImportURDFDemo/BulletUrdfImporter.cpp,126]:\n",
      "\n",
      "b3Printf: No inertial data for link, using mass=1, localinertiadiagonal = 1,1,1, identity local inertial frame\n",
      "b3Printf: b3Warning[examples/Importers/ImportURDFDemo/BulletUrdfImporter.cpp,126]:\n",
      "\n",
      "b3Printf: ef_R2\n",
      "b3Printf: b3Warning[examples/Importers/ImportURDFDemo/BulletUrdfImporter.cpp,126]:\n",
      "\n",
      "b3Printf: No inertial data for link, using mass=1, localinertiadiagonal = 1,1,1, identity local inertial frame\n",
      "b3Printf: b3Warning[examples/Importers/ImportURDFDemo/BulletUrdfImporter.cpp,126]:\n",
      "\n",
      "b3Printf: ef_L1\n",
      "b3Printf: b3Warning[examples/Importers/ImportURDFDemo/BulletUrdfImporter.cpp,126]:\n",
      "\n",
      "b3Printf: No inertial data for link, using mass=1, localinertiadiagonal = 1,1,1, identity local inertial frame\n",
      "b3Printf: b3Warning[examples/Importers/ImportURDFDemo/BulletUrdfImporter.cpp,126]:\n",
      "\n",
      "b3Printf: ef_L2\n"
     ]
    },
    {
     "data": {
      "text/plain": [
       "(array([0.5, 0.5, 0.5, 0.5, 0.5, 0.5, 0.5, 0.5, 0.5, 0.5, 0.5, 0.5, 0.5,\n",
       "        0.5, 0.5, 0.5, 0.5, 0.5, 0.5, 0.5, 0.5, 0.5, 0.5, 0.5, 0.5, 0.5,\n",
       "        0.5, 0.5, 0.5, 0.5, 0.5, 0.5, 0.5, 0.5, 0.5, 0.5, 0.5, 0.5, 0.5],\n",
       "       dtype=float32),\n",
       " {'prob': 1})"
      ]
     },
     "execution_count": 1,
     "metadata": {},
     "output_type": "execute_result"
    }
   ],
   "source": [
    "from mors_gym_env import MorsBulletEnv\n",
    "from stable_baselines3.common.env_checker import check_env\n",
    "import numpy as np\n",
    "\n",
    "t = 0.0\n",
    "dt = 1.0/240.0\n",
    "environment = MorsBulletEnv(urdf_root=\"./urdf\",\n",
    "                                    world=\"empty\",\n",
    "                                    sim_freq=240,\n",
    "                                    hard_reset=True,\n",
    "                                    render=True,\n",
    "                                    on_rack=False,\n",
    "                                    self_collision_enabled=False,\n",
    "                                    max_timesteps = np.inf,\n",
    "                                    debug_mode = False,\n",
    "                                    floating_camera=False,\n",
    "                                    step_enabled=True,\n",
    "\n",
    "                                    accurate_motor_model_enabled=False,\n",
    "                                    simple_motor_model_enabled=False,\n",
    "                                    torque_control_enabled=False,\n",
    "                                    motor_kp=0,\n",
    "                                    motor_kd=0,\n",
    "                                    motor_velocity_limit=np.inf,\n",
    "                                    \n",
    "                                    action_repeat=1,\n",
    "                                    rew_scale = 1,\n",
    "                                    distance_limit=float(\"inf\"),\n",
    "                                    observation_noise_stdev=0.0,\n",
    "                                    normalization = True,\n",
    "\n",
    "                                    ext_disturbance_enabled = False,\n",
    "                                    lidar_enabled=False,\n",
    "                                    camera_enabled = False\n",
    "                                    )\n",
    "\n",
    "environment.reset()\n",
    "\n",
    "for i in range(1000):\n",
    "    ref_angle = np.sin(t) * 0.7\n",
    "    action = [ref_angle]*12\n",
    "    observation, _, _, _, _ = environment.step(action)\n",
    "\n",
    "    t += dt\n",
    "environment.close()"
   ]
  },
  {
   "cell_type": "code",
   "execution_count": 2,
   "metadata": {},
   "outputs": [
    {
     "name": "stdout",
     "output_type": "stream",
     "text": [
      "numActiveThreads = 0\n",
      "stopping threads\n",
      "Thread with taskId 0 exiting\n",
      "Thread TERMINATED\n",
      "destroy semaphore\n",
      "semaphore destroyed\n",
      "destroy main semaphore\n",
      "main semaphore destroyed\n",
      "finished\n",
      "numActiveThreads = 0\n",
      "btShutDownExampleBrowser stopping threads\n",
      "Thread with taskId 0 exiting\n",
      "Thread TERMINATED\n",
      "destroy semaphore\n",
      "semaphore destroyed\n",
      "destroy main semaphore\n",
      "main semaphore destroyed\n"
     ]
    }
   ],
   "source": []
  },
  {
   "cell_type": "code",
   "execution_count": 3,
   "metadata": {},
   "outputs": [
    {
     "name": "stdout",
     "output_type": "stream",
     "text": []
    }
   ],
   "source": [
    "check_env(environment)"
   ]
  },
  {
   "cell_type": "code",
   "execution_count": 4,
   "metadata": {},
   "outputs": [
    {
     "ename": "error",
     "evalue": "Only one local in-process GUI/GUI_SERVER connection allowed. Use DIRECT connection mode or start a separate GUI physics server (ExampleBrowser, App_SharedMemoryPhysics_GUI, App_SharedMemoryPhysics_VR) and connect over SHARED_MEMORY, UDP or TCP instead.",
     "output_type": "error",
     "traceback": [
      "\u001b[0;31m---------------------------------------------------------------------------\u001b[0m",
      "\u001b[0;31merror\u001b[0m                                     Traceback (most recent call last)",
      "Cell \u001b[0;32mIn[4], line 7\u001b[0m\n\u001b[1;32m      4\u001b[0m \u001b[38;5;28;01mimport\u001b[39;00m \u001b[38;5;21;01mpybullet\u001b[39;00m \u001b[38;5;28;01mas\u001b[39;00m \u001b[38;5;21;01mp\u001b[39;00m\n\u001b[1;32m      5\u001b[0m \u001b[38;5;28;01mimport\u001b[39;00m \u001b[38;5;21;01mtime\u001b[39;00m\n\u001b[0;32m----> 7\u001b[0m environment \u001b[38;5;241m=\u001b[39m \u001b[43mMorsBulletEnv\u001b[49m\u001b[43m(\u001b[49m\u001b[43murdf_root\u001b[49m\u001b[38;5;241;43m=\u001b[39;49m\u001b[38;5;124;43m\"\u001b[39;49m\u001b[38;5;124;43m./urdf\u001b[39;49m\u001b[38;5;124;43m\"\u001b[39;49m\u001b[43m,\u001b[49m\n\u001b[1;32m      8\u001b[0m \u001b[43m                                    \u001b[49m\u001b[43mworld\u001b[49m\u001b[38;5;241;43m=\u001b[39;49m\u001b[38;5;124;43m\"\u001b[39;49m\u001b[38;5;124;43mempty\u001b[39;49m\u001b[38;5;124;43m\"\u001b[39;49m\u001b[43m,\u001b[49m\n\u001b[1;32m      9\u001b[0m \u001b[43m                                    \u001b[49m\u001b[43msim_freq\u001b[49m\u001b[38;5;241;43m=\u001b[39;49m\u001b[38;5;241;43m240\u001b[39;49m\u001b[43m,\u001b[49m\n\u001b[1;32m     10\u001b[0m \u001b[43m                                    \u001b[49m\u001b[43mhard_reset\u001b[49m\u001b[38;5;241;43m=\u001b[39;49m\u001b[38;5;28;43;01mTrue\u001b[39;49;00m\u001b[43m,\u001b[49m\n\u001b[1;32m     11\u001b[0m \u001b[43m                                    \u001b[49m\u001b[43mrender\u001b[49m\u001b[38;5;241;43m=\u001b[39;49m\u001b[38;5;28;43;01mTrue\u001b[39;49;00m\u001b[43m,\u001b[49m\n\u001b[1;32m     12\u001b[0m \u001b[43m                                    \u001b[49m\u001b[43mon_rack\u001b[49m\u001b[38;5;241;43m=\u001b[39;49m\u001b[38;5;28;43;01mFalse\u001b[39;49;00m\u001b[43m,\u001b[49m\n\u001b[1;32m     13\u001b[0m \u001b[43m                                    \u001b[49m\u001b[43mself_collision_enabled\u001b[49m\u001b[38;5;241;43m=\u001b[39;49m\u001b[38;5;28;43;01mFalse\u001b[39;49;00m\u001b[43m,\u001b[49m\n\u001b[1;32m     14\u001b[0m \u001b[43m                                    \u001b[49m\u001b[43mmax_timesteps\u001b[49m\u001b[43m \u001b[49m\u001b[38;5;241;43m=\u001b[39;49m\u001b[43m \u001b[49m\u001b[43mnp\u001b[49m\u001b[38;5;241;43m.\u001b[39;49m\u001b[43minf\u001b[49m\u001b[43m,\u001b[49m\n\u001b[1;32m     15\u001b[0m \u001b[43m                                    \u001b[49m\u001b[43mdebug_mode\u001b[49m\u001b[43m \u001b[49m\u001b[38;5;241;43m=\u001b[39;49m\u001b[43m \u001b[49m\u001b[38;5;28;43;01mTrue\u001b[39;49;00m\u001b[43m,\u001b[49m\n\u001b[1;32m     16\u001b[0m \u001b[43m                                    \u001b[49m\u001b[43mfloating_camera\u001b[49m\u001b[38;5;241;43m=\u001b[39;49m\u001b[38;5;28;43;01mFalse\u001b[39;49;00m\u001b[43m,\u001b[49m\n\u001b[1;32m     17\u001b[0m \u001b[43m                                    \u001b[49m\u001b[43mstep_enabled\u001b[49m\u001b[38;5;241;43m=\u001b[39;49m\u001b[38;5;28;43;01mTrue\u001b[39;49;00m\u001b[43m,\u001b[49m\n\u001b[1;32m     18\u001b[0m \n\u001b[1;32m     19\u001b[0m \u001b[43m                                    \u001b[49m\u001b[43maccurate_motor_model_enabled\u001b[49m\u001b[38;5;241;43m=\u001b[39;49m\u001b[38;5;28;43;01mFalse\u001b[39;49;00m\u001b[43m,\u001b[49m\n\u001b[1;32m     20\u001b[0m \u001b[43m                                    \u001b[49m\u001b[43msimple_motor_model_enabled\u001b[49m\u001b[38;5;241;43m=\u001b[39;49m\u001b[38;5;28;43;01mFalse\u001b[39;49;00m\u001b[43m,\u001b[49m\n\u001b[1;32m     21\u001b[0m \u001b[43m                                    \u001b[49m\u001b[43mtorque_control_enabled\u001b[49m\u001b[38;5;241;43m=\u001b[39;49m\u001b[38;5;28;43;01mFalse\u001b[39;49;00m\u001b[43m,\u001b[49m\n\u001b[1;32m     22\u001b[0m \u001b[43m                                    \u001b[49m\u001b[43mmotor_kp\u001b[49m\u001b[38;5;241;43m=\u001b[39;49m\u001b[38;5;241;43m0\u001b[39;49m\u001b[43m,\u001b[49m\n\u001b[1;32m     23\u001b[0m \u001b[43m                                    \u001b[49m\u001b[43mmotor_kd\u001b[49m\u001b[38;5;241;43m=\u001b[39;49m\u001b[38;5;241;43m0\u001b[39;49m\u001b[43m,\u001b[49m\n\u001b[1;32m     24\u001b[0m \u001b[43m                                    \u001b[49m\u001b[43mmotor_velocity_limit\u001b[49m\u001b[38;5;241;43m=\u001b[39;49m\u001b[43mnp\u001b[49m\u001b[38;5;241;43m.\u001b[39;49m\u001b[43minf\u001b[49m\u001b[43m,\u001b[49m\n\u001b[1;32m     25\u001b[0m \u001b[43m                                    \u001b[49m\n\u001b[1;32m     26\u001b[0m \u001b[43m                                    \u001b[49m\u001b[43maction_repeat\u001b[49m\u001b[38;5;241;43m=\u001b[39;49m\u001b[38;5;241;43m1\u001b[39;49m\u001b[43m,\u001b[49m\n\u001b[1;32m     27\u001b[0m \u001b[43m                                    \u001b[49m\u001b[43mrew_scale\u001b[49m\u001b[43m \u001b[49m\u001b[38;5;241;43m=\u001b[39;49m\u001b[43m \u001b[49m\u001b[38;5;241;43m1\u001b[39;49m\u001b[43m,\u001b[49m\n\u001b[1;32m     28\u001b[0m \u001b[43m                                    \u001b[49m\u001b[43mdistance_limit\u001b[49m\u001b[38;5;241;43m=\u001b[39;49m\u001b[38;5;28;43mfloat\u001b[39;49m\u001b[43m(\u001b[49m\u001b[38;5;124;43m\"\u001b[39;49m\u001b[38;5;124;43minf\u001b[39;49m\u001b[38;5;124;43m\"\u001b[39;49m\u001b[43m)\u001b[49m\u001b[43m,\u001b[49m\n\u001b[1;32m     29\u001b[0m \u001b[43m                                    \u001b[49m\u001b[43mobservation_noise_stdev\u001b[49m\u001b[38;5;241;43m=\u001b[39;49m\u001b[38;5;241;43m0.0\u001b[39;49m\u001b[43m,\u001b[49m\n\u001b[1;32m     30\u001b[0m \u001b[43m                                    \u001b[49m\u001b[43mnormalization\u001b[49m\u001b[43m \u001b[49m\u001b[38;5;241;43m=\u001b[39;49m\u001b[43m \u001b[49m\u001b[38;5;28;43;01mFalse\u001b[39;49;00m\u001b[43m,\u001b[49m\n\u001b[1;32m     31\u001b[0m \n\u001b[1;32m     32\u001b[0m \u001b[43m                                    \u001b[49m\u001b[43mext_disturbance_enabled\u001b[49m\u001b[43m \u001b[49m\u001b[38;5;241;43m=\u001b[39;49m\u001b[43m \u001b[49m\u001b[38;5;28;43;01mFalse\u001b[39;49;00m\u001b[43m,\u001b[49m\n\u001b[1;32m     33\u001b[0m \u001b[43m                                    \u001b[49m\u001b[43mlidar_enabled\u001b[49m\u001b[38;5;241;43m=\u001b[39;49m\u001b[38;5;28;43;01mTrue\u001b[39;49;00m\u001b[43m,\u001b[49m\n\u001b[1;32m     34\u001b[0m \u001b[43m                                    \u001b[49m\u001b[43mcamera_enabled\u001b[49m\u001b[43m \u001b[49m\u001b[38;5;241;43m=\u001b[39;49m\u001b[43m \u001b[49m\u001b[38;5;28;43;01mTrue\u001b[39;49;00m\n\u001b[1;32m     35\u001b[0m \u001b[43m                                    \u001b[49m\u001b[43m)\u001b[49m\n\u001b[1;32m     37\u001b[0m steps \u001b[38;5;241m=\u001b[39m \u001b[38;5;241m20000\u001b[39m\n\u001b[1;32m     38\u001b[0m step \u001b[38;5;241m=\u001b[39m \u001b[38;5;241m0\u001b[39m\n",
      "File \u001b[0;32m~/mors_ws/src/mors_pc/mors_sim/scripts/mors_sim/mors_gym_env.py:229\u001b[0m, in \u001b[0;36mMorsBulletEnv.__init__\u001b[0;34m(self, urdf_root, sim_freq, world, hard_reset, render, on_rack, self_collision_enabled, debug_mode, floating_camera, step_enabled, accurate_motor_model_enabled, simple_motor_model_enabled, torque_control_enabled, motor_kp, motor_kd, motor_velocity_limit, max_timesteps, action_repeat, rew_scale, distance_limit, observation_noise_stdev, normalization, camera_enabled, lidar_enabled, ext_disturbance_enabled)\u001b[0m\n\u001b[1;32m    225\u001b[0m     \u001b[38;5;28mself\u001b[39m\u001b[38;5;241m.\u001b[39m_simple_motor_model\u001b[38;5;241m.\u001b[39mset_kd(\u001b[38;5;28mself\u001b[39m\u001b[38;5;241m.\u001b[39m_motor_kd)\n\u001b[1;32m    228\u001b[0m \u001b[38;5;28;01mif\u001b[39;00m \u001b[38;5;28mself\u001b[39m\u001b[38;5;241m.\u001b[39m_is_render:\n\u001b[0;32m--> 229\u001b[0m   \u001b[38;5;28mself\u001b[39m\u001b[38;5;241m.\u001b[39m_pybullet_client \u001b[38;5;241m=\u001b[39m \u001b[43mbc\u001b[49m\u001b[38;5;241;43m.\u001b[39;49m\u001b[43mBulletClient\u001b[49m\u001b[43m(\u001b[49m\u001b[43mconnection_mode\u001b[49m\u001b[38;5;241;43m=\u001b[39;49m\u001b[43mpybullet\u001b[49m\u001b[38;5;241;43m.\u001b[39;49m\u001b[43mGUI\u001b[49m\u001b[43m)\u001b[49m\n\u001b[1;32m    230\u001b[0m \u001b[38;5;28;01melse\u001b[39;00m:\n\u001b[1;32m    231\u001b[0m   \u001b[38;5;28mself\u001b[39m\u001b[38;5;241m.\u001b[39m_pybullet_client \u001b[38;5;241m=\u001b[39m bc\u001b[38;5;241m.\u001b[39mBulletClient()\n",
      "File \u001b[0;32m~/.local/lib/python3.8/site-packages/pybullet_utils/bullet_client.py:33\u001b[0m, in \u001b[0;36mBulletClient.__init__\u001b[0;34m(self, connection_mode, hostName, options)\u001b[0m\n\u001b[1;32m     31\u001b[0m     connection_mode \u001b[38;5;241m=\u001b[39m pybullet\u001b[38;5;241m.\u001b[39mDIRECT\n\u001b[1;32m     32\u001b[0m \u001b[38;5;28;01mif\u001b[39;00m hostName \u001b[38;5;129;01mis\u001b[39;00m \u001b[38;5;28;01mNone\u001b[39;00m:\n\u001b[0;32m---> 33\u001b[0m     \u001b[38;5;28mself\u001b[39m\u001b[38;5;241m.\u001b[39m_client \u001b[38;5;241m=\u001b[39m \u001b[43mpybullet\u001b[49m\u001b[38;5;241;43m.\u001b[39;49m\u001b[43mconnect\u001b[49m\u001b[43m(\u001b[49m\u001b[43mconnection_mode\u001b[49m\u001b[43m,\u001b[49m\u001b[43m \u001b[49m\u001b[43moptions\u001b[49m\u001b[38;5;241;43m=\u001b[39;49m\u001b[43moptions\u001b[49m\u001b[43m)\u001b[49m\n\u001b[1;32m     34\u001b[0m \u001b[38;5;28;01melse\u001b[39;00m:\n\u001b[1;32m     35\u001b[0m     \u001b[38;5;28mself\u001b[39m\u001b[38;5;241m.\u001b[39m_client \u001b[38;5;241m=\u001b[39m pybullet\u001b[38;5;241m.\u001b[39mconnect(connection_mode, hostName\u001b[38;5;241m=\u001b[39mhostName, options\u001b[38;5;241m=\u001b[39moptions)\n",
      "\u001b[0;31merror\u001b[0m: Only one local in-process GUI/GUI_SERVER connection allowed. Use DIRECT connection mode or start a separate GUI physics server (ExampleBrowser, App_SharedMemoryPhysics_GUI, App_SharedMemoryPhysics_VR) and connect over SHARED_MEMORY, UDP or TCP instead."
     ]
    }
   ],
   "source": [
    "from mors_gym_env import MorsBulletEnv\n",
    "import math\n",
    "import numpy as np\n",
    "import pybullet as p\n",
    "import time\n",
    "\n",
    "environment = MorsBulletEnv(urdf_root=\"./urdf\",\n",
    "                                    world=\"empty\",\n",
    "                                    sim_freq=240,\n",
    "                                    hard_reset=True,\n",
    "                                    render=True,\n",
    "                                    on_rack=False,\n",
    "                                    self_collision_enabled=False,\n",
    "                                    max_timesteps = np.inf,\n",
    "                                    debug_mode = True,\n",
    "                                    floating_camera=False,\n",
    "                                    step_enabled=True,\n",
    "\n",
    "                                    accurate_motor_model_enabled=False,\n",
    "                                    simple_motor_model_enabled=False,\n",
    "                                    torque_control_enabled=False,\n",
    "                                    motor_kp=0,\n",
    "                                    motor_kd=0,\n",
    "                                    motor_velocity_limit=np.inf,\n",
    "                                    \n",
    "                                    action_repeat=1,\n",
    "                                    rew_scale = 1,\n",
    "                                    distance_limit=float(\"inf\"),\n",
    "                                    observation_noise_stdev=0.0,\n",
    "                                    normalization = False,\n",
    "\n",
    "                                    ext_disturbance_enabled = False,\n",
    "                                    lidar_enabled=True,\n",
    "                                    camera_enabled = True\n",
    "                                    )\n",
    "\n",
    "steps = 20000\n",
    "step = 0\n",
    "amplitude = 0.2\n",
    "speed = 2\n",
    "it = 0\n",
    "\n",
    "actions_and_observations = []\n",
    "action = [0]*12\n",
    "angles = [0]*12\n",
    "vels = [0]*12\n",
    "torques = [0]*12\n",
    "# action[0] = 0.2\n",
    "\n",
    "kp = 0\n",
    "kd = 0\n",
    "\n",
    "time_vec = []\n",
    "cur_angles_vec = []\n",
    "cur_omegas_vec = []\n",
    "cur_tau_vec = []\n",
    "\n",
    "worlds = [\"gazebo_racetrack_day\", \"empty\", \"random1\", \"random2\"]\n",
    "\n",
    "environment.set_ext_forces_params(1200, 6, 500)\n",
    "\n",
    "numJoints = environment._pybullet_client.getNumJoints(environment.quadruped)\n",
    "print(numJoints)\n",
    "for i in range(numJoints):\n",
    "    lst = environment._pybullet_client.getJointInfo(environment.quadruped, i)\n",
    "    print(f\"idx={lst[0]} name={lst[1]}\")\n",
    "\n",
    "\n",
    "\n",
    "environment.lidar.set_params(True, np.radians(170), -np.radians(170), 360, 0.2, 1)\n",
    "environment.lidar.reset()\n",
    "\n",
    "# # for i in range(len(worlds)):\n",
    "# #     environment.set_world(worlds[i])\n",
    "# #     environment.reset()\n",
    "# for step_counter in range(steps):\n",
    "#     # Matches the internal timestep.\n",
    "#     time_step = 0.00417\n",
    "#     step += 1\n",
    "#     t = step_counter * time_step\n",
    "    \n",
    "#     # action[0] = math.sin(speed * t) * amplitude * 2\n",
    "#     # action[1] = math.sin(speed * t) * amplitude * 2\n",
    "#     # action[2] = -math.sin(speed * t) * amplitude * 4\n",
    "\n",
    "#     # action[3] = math.sin(speed * t) * amplitude\n",
    "#     # action[4] = -math.sin(speed * t) * amplitude * 2\n",
    "#     # action[5] = math.sin(speed * t) * amplitude * 4\n",
    "\n",
    "#     # action[6] = -math.sin(speed * t) * amplitude * 2\n",
    "#     # action[7] = math.sin(speed * t) * amplitude * 2\n",
    "#     # action[8] = -math.sin(speed * t) * amplitude * 4\n",
    "\n",
    "#     # action[9] = -math.sin(speed * t) * amplitude\n",
    "#     # action[10] = -math.sin(speed * t) * amplitude * 2\n",
    "#     # action[11] = +math.sin(speed * t) * amplitude * 4\n",
    "#     if kp < 30:\n",
    "#         kp += 0.32\n",
    "#     if kd < 0.1:\n",
    "#         kd += 0.005\n",
    "\n",
    "#     # if step % 240 == 0:\n",
    "#     # if action[0] < 0.6:\n",
    "#     #     action[0] += 0.0016\n",
    "#     # action[1] = 1.5\n",
    "#     # angles[0] = 0\n",
    "#     # torques[0] = -1.5\n",
    "\n",
    "#     environment.set_kpkd(kp, kd)\n",
    "#     # environment.set_motor_commands(angles, vels, torques)\n",
    "#     observation, _, _, _ = environment.step(action)\n",
    "    \n",
    "#     time_vec.append(t)\n",
    "#     cur_angles_vec.append(observation[0:12])\n",
    "#     cur_omegas_vec.append(observation[12:24])\n",
    "#     cur_tau_vec.append(observation[24:35])\n",
    "\n",
    "#     # time.sleep(0.1)\n",
    "#     environment.camera.get_pointcloud()\n",
    "    \n",
    "\n",
    "# environment.reset()\n",
    "# environment.close()\n"
   ]
  },
  {
   "cell_type": "code",
   "execution_count": 4,
   "metadata": {},
   "outputs": [
    {
     "data": {
      "text/plain": [
       "[<matplotlib.lines.Line2D at 0x7fdc520065b0>]"
      ]
     },
     "execution_count": 4,
     "metadata": {},
     "output_type": "execute_result"
    },
    {
     "data": {
      "image/png": "[encoded data removed]",
      "text/plain": [
       "<Figure size 640x480 with 1 Axes>"
      ]
     },
     "metadata": {},
     "output_type": "display_data"
    }
   ],
   "source": [
    "import matplotlib.pyplot as plt\n",
    "\n",
    "abad_r1_angles = []\n",
    "for i in range(len(cur_angles_vec)):\n",
    "    abad_r1_angles.append(cur_angles_vec[i][0])\n",
    "\n",
    "# print(abad_r1_angles)\n",
    "\n",
    "plt.plot(time_vec, abad_r1_angles)"
   ]
  },
  {
   "cell_type": "code",
   "execution_count": 5,
   "metadata": {},
   "outputs": [
    {
     "name": "stdout",
     "output_type": "stream",
     "text": [
      "[5 7 9]\n",
      "[-3 -3 -3]\n",
      "[ 4 10 18]\n",
      "[0.25 0.4  0.5 ]\n"
     ]
    }
   ],
   "source": [
    "import numpy as np\n",
    "a = [1, 2, 3]\n",
    "b = [4, 5, 6]\n",
    "print(np.add(a, b))\n",
    "print(np.subtract(a, b))\n",
    "print(np.multiply(a, b))\n",
    "print(np.divide(a, b))\n"
   ]
  },
  {
   "cell_type": "code",
   "execution_count": 6,
   "metadata": {},
   "outputs": [
    {
     "data": {
      "text/plain": [
       "array([1, 1, 2, 3])"
      ]
     },
     "execution_count": 6,
     "metadata": {},
     "output_type": "execute_result"
    }
   ],
   "source": [
    "import numpy as np\n",
    "\n",
    "a = np.array([1,2,3])\n",
    "b = np.array([1])\n",
    "b = np.append(b, a)\n",
    "b\n"
   ]
  },
  {
   "cell_type": "code",
   "execution_count": 7,
   "metadata": {},
   "outputs": [
    {
     "ename": "TypeError",
     "evalue": "set_ref_angle() takes 2 positional arguments but 6 were given",
     "output_type": "error",
     "traceback": [
      "\u001b[0;31m---------------------------------------------------------------------------\u001b[0m",
      "\u001b[0;31mTypeError\u001b[0m                                 Traceback (most recent call last)",
      "Cell \u001b[0;32mIn[7], line 14\u001b[0m\n\u001b[1;32m     12\u001b[0m \u001b[38;5;28;01mfor\u001b[39;00m i \u001b[38;5;129;01min\u001b[39;00m \u001b[38;5;28mrange\u001b[39m(\u001b[38;5;241m20\u001b[39m):\n\u001b[1;32m     13\u001b[0m     motor\u001b[38;5;241m.\u001b[39mset_sensor_data(cur_angle, cur_omega)\n\u001b[0;32m---> 14\u001b[0m     \u001b[43mmotor\u001b[49m\u001b[38;5;241;43m.\u001b[39;49m\u001b[43mset_ref_angle\u001b[49m\u001b[43m(\u001b[49m\u001b[43m[\u001b[49m\u001b[38;5;241;43m1\u001b[39;49m\u001b[43m]\u001b[49m\u001b[38;5;241;43m*\u001b[39;49m\u001b[43mmotor_num\u001b[49m\u001b[43m,\u001b[49m\u001b[43m \u001b[49m\u001b[43m[\u001b[49m\u001b[38;5;241;43m0\u001b[39;49m\u001b[43m]\u001b[49m\u001b[38;5;241;43m*\u001b[39;49m\u001b[43mmotor_num\u001b[49m\u001b[43m,\u001b[49m\u001b[43m \u001b[49m\u001b[43m[\u001b[49m\u001b[38;5;241;43m0\u001b[39;49m\u001b[43m]\u001b[49m\u001b[38;5;241;43m*\u001b[39;49m\u001b[43mmotor_num\u001b[49m\u001b[43m,\u001b[49m\u001b[43m \u001b[49m\u001b[43m[\u001b[49m\u001b[38;5;241;43m1\u001b[39;49m\u001b[43m]\u001b[49m\u001b[38;5;241;43m*\u001b[39;49m\u001b[43mmotor_num\u001b[49m\u001b[43m,\u001b[49m\u001b[43m \u001b[49m\u001b[43m[\u001b[49m\u001b[38;5;241;43m0.1\u001b[39;49m\u001b[43m]\u001b[49m\u001b[38;5;241;43m*\u001b[39;49m\u001b[43mmotor_num\u001b[49m\u001b[43m)\u001b[49m\n\u001b[1;32m     16\u001b[0m     cur_angle[\u001b[38;5;241m0\u001b[39m] \u001b[38;5;241m+\u001b[39m\u001b[38;5;241m=\u001b[39m \u001b[38;5;241m0.01\u001b[39m\n\u001b[1;32m     17\u001b[0m     cur_omega[\u001b[38;5;241m0\u001b[39m] \u001b[38;5;241m=\u001b[39m \u001b[38;5;241m10\u001b[39m\n",
      "\u001b[0;31mTypeError\u001b[0m: set_ref_angle() takes 2 positional arguments but 6 were given"
     ]
    }
   ],
   "source": [
    "from motor_simple import MotorSimple\n",
    "import numpy as np\n",
    "motor_num = 12\n",
    "motor = MotorSimple(motor_num)\n",
    "cur_angle = [0]*motor_num\n",
    "cur_omega = [0]*motor_num\n",
    "\n",
    "cur_angle_vec = []\n",
    "omega_vec = []\n",
    "u_vec = []\n",
    "\n",
    "for i in range(20):\n",
    "    motor.set_sensor_data(cur_angle, cur_omega)\n",
    "    motor.set_ref_angle([1]*motor_num, [0]*motor_num, [0]*motor_num, [1]*motor_num, [0.1]*motor_num)\n",
    "\n",
    "    cur_angle[0] += 0.01\n",
    "    cur_omega[0] = 10\n",
    "\n",
    "    u = motor.step()\n",
    "    u_vec.append(round(u[0], 2))\n",
    "    cur_angle_vec.append(round(cur_angle[0], 2))\n",
    "    omega_vec.append(round(cur_omega[0], 2))\n",
    "\n",
    "print(cur_angle_vec)\n",
    "print(omega_vec)\n",
    "print(u_vec)"
   ]
  },
  {
   "cell_type": "code",
   "execution_count": null,
   "metadata": {},
   "outputs": [
    {
     "name": "stdout",
     "output_type": "stream",
     "text": [
      "[[ 0.  0.  1.  0.]\n",
      " [-1.  0.  0.  0.]\n",
      " [ 0. -1.  0.  0.]\n",
      " [ 0.  0.  0.  1.]]\n",
      "[[0]\n",
      " [0]\n",
      " [1]\n",
      " [1]]\n"
     ]
    }
   ],
   "source": [
    "import numpy\n",
    "\n",
    "T1 = numpy.mat([[ 0,   1, 0, 0.0], \n",
    "                [ -1,   0, 0, 0.0],\n",
    "                [ 0,   0, 1, 0.0], \n",
    "                [ 0,   0, 0, 1.0]])\n",
    "\n",
    "T2 = numpy.mat([[ 0,   0, 1, 0.0], \n",
    "                [ 0,   1, 0, 0.0],\n",
    "                [-1,   0, 0, 0.0], \n",
    "                [ 0,   0, 0, 1.0]])\n",
    "T3 = T2*T1\n",
    "print(T3)\n",
    "print(numpy.array([[0],[0],[1],[1]]))"
   ]
  },
  {
   "cell_type": "code",
   "execution_count": 4,
   "metadata": {},
   "outputs": [
    {
     "name": "stdout",
     "output_type": "stream",
     "text": [
      "[2 3 4 5 6]\n"
     ]
    }
   ],
   "source": [
    "import numpy as np \n",
    "\n",
    "arr = np.array([1,2,3,4,5])\n",
    "arr += 1\n",
    "print(arr)"
   ]
  },
  {
   "cell_type": "code",
   "execution_count": 1,
   "metadata": {},
   "outputs": [
    {
     "name": "stdout",
     "output_type": "stream",
     "text": [
      "5\n",
      "4\n",
      "7\n",
      "8\n",
      "2\n",
      "0\n",
      "1\n"
     ]
    }
   ],
   "source": [
    "order = [5,4,7,8,2,0,1]\n",
    "for i in order:\n",
    "    print(i)"
   ]
  },
  {
   "cell_type": "code",
   "execution_count": 3,
   "metadata": {},
   "outputs": [
    {
     "data": {
      "text/plain": [
       "760"
      ]
     },
     "execution_count": 3,
     "metadata": {},
     "output_type": "execute_result"
    }
   ],
   "source": [
    "from math import *\n",
    "lst = [0.34700000286102295, 0.34700000286102295, 0.34599998593330383, 0.34599998593330383, 0.34700000286102295, 0.34700000286102295, 0.34700000286102295, 0.34700000286102295, 0.34700000286102295, 0.34700000286102295, 0.34700000286102295, 0.35100001096725464, 0.35100001096725464, 0.35100001096725464, 0.3529999852180481, 0.3529999852180481, 0.3540000021457672, 0.35499998927116394, inf, inf, inf, 0.20399999618530273, 0.20399999618530273, 0.20399999618530273, 0.2029999941587448, 0.20100000500679016, 0.8870000243186951, 0.8870000243186951, 0.8550000190734863, 0.8240000009536743, 0.8050000071525574, 0.8050000071525574, 0.8029999732971191, 0.8029999732971191, 0.8040000200271606, inf, inf, inf, inf, inf, 0.8410000205039978, 0.8410000205039978, 0.8410000205039978, inf, inf, inf, inf, 1.2020000219345093, 1.2020000219345093, 1.2020000219345093, 1.215999960899353, 1.2259999513626099, 0.18199999630451202, 1.2339999675750732, 1.2419999837875366, 1.25, 1.25, 1.2350000143051147, 1.2350000143051147, 1.218999981880188, 1.1990000009536743, 1.180999994277954, 1.180999994277954, 1.156000018119812, inf, inf, inf, inf, inf, inf, inf, inf, 0.4259999990463257, 0.4259999990463257, 0.4259999990463257, 0.41499999165534973, 0.41100001335144043, 0.4050000011920929, 0.4020000100135803, 0.40299999713897705, 0.40299999713897705, 0.4009999930858612, 0.4000000059604645, 0.4000000059604645, 0.39899998903274536, 0.4009999930858612, 0.40799999237060547, 0.40799999237060547, 0.4090000092983246, 0.4169999957084656, 0.42500001192092896, 0.42500001192092896, inf, inf, inf, 0.8759999871253967, 0.8759999871253967, 0.8759999871253967, 0.8659999966621399, 0.8600000143051147, 0.8600000143051147, 0.8539999723434448, 0.8410000205039978, 0.8429999947547913, 0.8429999947547913, 0.8339999914169312, 0.8309999704360962, 0.824999988079071, 0.8199999928474426, 0.8199999928474426, 0.8149999976158142, 0.8050000071525574, 0.8050000071525574, 0.8050000071525574, 0.800000011920929, 0.7960000038146973, 0.7910000085830688, 0.7879999876022339, 0.7879999876022339, 0.7839999794960022, 0.781000018119812, 0.7749999761581421, 0.7720000147819519, 0.7720000147819519, 0.7710000276565552, inf, inf, inf, inf, inf, inf, inf, 0.42899999022483826, 0.42899999022483826, 0.42899999022483826, inf, inf, inf, inf, inf, inf, inf, inf, inf, inf, inf, inf, inf, 0.375, 0.375, 0.375, 0.37299999594688416, 0.37299999594688416, 0.36500000953674316, 0.36399999260902405, 0.36399999260902405, 0.3610000014305115, 0.35600000619888306, 0.35600000619888306, 0.35600000619888306, 0.35899999737739563, 0.35899999737739563, 0.36399999260902405, 0.35100001096725464, 0.35100001096725464, 0.35100001096725464, 0.34700000286102295, 0.34700000286102295, 0.34700000286102295, 0.3400000035762787, 0.3400000035762787, 0.3400000035762787, 0.34200000762939453, 0.34200000762939453, 0.33799999952316284, 0.33899998664855957, 0.33799999952316284, 0.33799999952316284, 0.33799999952316284, 0.33799999952316284, 0.33399999141693115, 0.33500000834465027, 0.33500000834465027, 0.33500000834465027, 0.3319999873638153, 0.3319999873638153, 0.33000001311302185, 0.3310000002384186, 0.3310000002384186, 0.32899999618530273, 0.33000001311302185, 0.33000001311302185, 0.32899999618530273, 0.32899999618530273, inf, inf, inf, inf, inf, inf, inf, 0.3240000009536743, 0.3240000009536743, 0.3240000009536743, 0.32499998807907104, 0.3230000138282776, 0.3230000138282776, 0.3269999921321869, 0.3269999921321869, 0.3269999921321869, inf, inf, 0.25, 0.25, 0.25, 0.24199999868869781, 0.2370000034570694, 0.22499999403953552, 0.23000000417232513, 0.23000000417232513, 0.22200000286102295, 0.22200000286102295, 0.22100000083446503, 0.2199999988079071, inf, inf, 0.21899999678134918, 0.21899999678134918, 0.21899999678134918, 0.21899999678134918, 0.2160000056028366, 0.2150000035762787, 0.2150000035762787, 0.21400000154972076, 0.21400000154972076, 0.210999995470047, 0.210999995470047, 0.20800000429153442, 0.20800000429153442, 0.20800000429153442, 0.20999999344348907, 0.20600000023841858, 0.20399999618530273, 0.20399999618530273, 0.2029999941587448, 0.20100000500679016, 0.20000000298023224, 0.20000000298023224, 0.19900000095367432, 0.19900000095367432, 0.1979999989271164, 0.1979999989271164, 0.19699999690055847, 0.19599999487400055, 0.19599999487400055, 0.19499999284744263, 0.19499999284744263, 0.19499999284744263, 0.19499999284744263, 0.19300000369548798, 0.19300000369548798, 0.19200000166893005, 0.19200000166893005, 0.19099999964237213, 0.19099999964237213, 0.19099999964237213, 0.1889999955892563, 0.18799999356269836, 0.18799999356269836, 0.18799999356269836, 0.18700000643730164, 0.1860000044107437, 0.1860000044107437, 0.1860000044107437, 0.1850000023841858, 0.18400000035762787, 0.18400000035762787, 0.18400000035762787, 0.18299999833106995, 0.18199999630451202, 0.18199999630451202, 0.18199999630451202, 0.1809999942779541, 0.1809999942779541, 0.18000000715255737, 0.18000000715255737, 0.18000000715255737, 0.17900000512599945, 0.17900000512599945, 0.17800000309944153, 0.17800000309944153, 0.17800000309944153, 0.1770000010728836, 0.1770000010728836, 0.1770000010728836, 0.1770000010728836, 0.1770000010728836, 0.17599999904632568, 0.17599999904632568, 0.17599999904632568, 0.17599999904632568, 0.17599999904632568, 0.17499999701976776, 0.17499999701976776, 0.17499999701976776, 0.17499999701976776, 0.17499999701976776, 0.17499999701976776, 0.17399999499320984, 0.17399999499320984, 0.17399999499320984, 0.17399999499320984, 0.17399999499320984, 0.17399999499320984, 0.17399999499320984, 0.17399999499320984, 0.17399999499320984, 0.17399999499320984, 0.17399999499320984, 0.17299999296665192, 0.17299999296665192, 0.17299999296665192, 0.17299999296665192, 0.17299999296665192, 0.17299999296665192, 0.17299999296665192, 0.17299999296665192, 0.17299999296665192, 0.17299999296665192, 0.17299999296665192, 0.1720000058412552, 0.1720000058412552, 0.1720000058412552, 0.1720000058412552, 0.1720000058412552, 0.1720000058412552, 0.1720000058412552, 0.1720000058412552, 0.1720000058412552, 0.1720000058412552, 0.1720000058412552, 0.1720000058412552, 0.1720000058412552, 0.17299999296665192, 0.17299999296665192, 0.17299999296665192, 0.17299999296665192, 0.17299999296665192, 0.17299999296665192, 0.17399999499320984, 0.17399999499320984, 0.17399999499320984, 0.17399999499320984, 0.17499999701976776, 0.17499999701976776, 0.17499999701976776, 0.17599999904632568, 0.17599999904632568, 0.1770000010728836, 0.1770000010728836, 0.1770000010728836, 0.17800000309944153, 0.17900000512599945, 0.17900000512599945, 0.18000000715255737, 0.1809999942779541, 0.18199999630451202, 0.18199999630451202, 0.18299999833106995, 0.18400000035762787, 0.1850000023841858, 0.1860000044107437, 0.1860000044107437, 0.18700000643730164, 0.18799999356269836, 0.18799999356269836, 0.1889999955892563, 0.19099999964237213, 0.19200000166893005, 0.19300000369548798, 0.19300000369548798, 0.1940000057220459, 0.19499999284744263, 0.19699999690055847, 0.20000000298023224, 0.20000000298023224, 0.20000000298023224, 0.19900000095367432, 0.19900000095367432, 0.1979999989271164, 0.19599999487400055, 0.19499999284744263, 0.19300000369548798, 0.19300000369548798, 0.19099999964237213, 0.1889999955892563, 0.18700000643730164, 0.1860000044107437, 0.1860000044107437, 0.18400000035762787, 0.18299999833106995, 0.1809999942779541, 0.1809999942779541, 0.18000000715255737, 0.17900000512599945, 0.17800000309944153, 0.17800000309944153, 0.1770000010728836, 0.1770000010728836, 0.17599999904632568, 0.17599999904632568, 0.17599999904632568, 0.17499999701976776, 0.17499999701976776, 0.17499999701976776, 0.17499999701976776, 0.17499999701976776, 0.17399999499320984, 0.17399999499320984, 0.17399999499320984, 0.17399999499320984, 0.17399999499320984, 0.17499999701976776, 0.17499999701976776, 0.17499999701976776, 0.17499999701976776, 0.17499999701976776, 0.17599999904632568, 0.17599999904632568, 0.1770000010728836, 0.17800000309944153, 0.17900000512599945, 0.1809999942779541, 0.1809999942779541, 0.18199999630451202, 0.1850000023841858, 0.18799999356269836, 0.18799999356269836, 0.19099999964237213, 0.19099999964237213, 0.20200000703334808, 0.20200000703334808, 0.21299999952316284, inf, inf, inf, inf, inf, inf, inf, inf, inf, inf, inf, inf, inf, 2.236999988555908, 2.236999988555908, 2.236999988555908, 2.2139999866485596, 2.2139999866485596, 2.2060000896453857, 2.1989998817443848, 2.1760001182556152, 2.1760001182556152, 2.1760001182556152, 3.0250000953674316, 3.0250000953674316, 3.0, 2.9670000076293945, 2.934000015258789, 2.934000015258789, 2.884999990463257, 2.803999900817871, 2.7939999103546143, 2.8369998931884766, 2.8369998931884766, 2.6989998817443848, 2.6989998817443848, 2.7160000801086426, 2.5420000553131104, 2.5420000553131104, 2.8489999771118164, 2.8489999771118164, 2.8489999771118164, 2.8540000915527344, 2.5139999389648438, 2.493000030517578, 2.496000051498413, 2.496000051498413, 2.621999979019165, 2.6029999256134033, 2.625999927520752, 2.625999927520752, 2.742000102996826, 2.75600004196167, 2.7860000133514404, 2.881999969482422, 2.881999969482422, 2.996000051498413, 3.0, 3.0, 3.005000114440918, inf, inf, inf, inf, inf, inf, inf, inf, inf, 0.2290000021457672, 0.2290000021457672, 0.2290000021457672, inf, inf, inf, 0.19099999964237213, 0.19099999964237213, 0.19099999964237213, 0.18700000643730164, 0.1850000023841858, 0.1850000023841858, 0.18299999833106995, 0.18000000715255737, 0.17800000309944153, 0.17800000309944153, 0.1770000010728836, 0.17499999701976776, 0.17399999499320984, 0.17299999296665192, 0.17299999296665192, 0.1720000058412552, 0.17100000381469727, 0.17000000178813934, 0.16899999976158142, 0.1679999977350235, 0.1679999977350235, 0.16699999570846558, 0.16599999368190765, 0.16500000655651093, 0.16500000655651093, 0.164000004529953, 0.16300000250339508, 0.16200000047683716, 0.16200000047683716, 0.16099999845027924, 0.1599999964237213, 0.1589999943971634, 0.15700000524520874, 0.15700000524520874, 0.1550000011920929, 0.15399999916553497, 0.15199999511241913, 0.15199999511241913, 0.1509999930858612, 0.1509999930858612, 0.15000000596046448, 0.15000000596046448, 0.15000000596046448, 0.14900000393390656, 0.14900000393390656, 0.14900000393390656, 0.14900000393390656, 0.14900000393390656, 0.14900000393390656, 0.14900000393390656, 0.14900000393390656, 0.14900000393390656, 0.14900000393390656, 0.15000000596046448, 0.15000000596046448, 0.15000000596046448, 0.15000000596046448, 0.1509999930858612, 0.1509999930858612, 0.1509999930858612, 0.15199999511241913, 0.15299999713897705, 0.1550000011920929, 0.1550000011920929, 0.15600000321865082, 0.15700000524520874, 0.1589999943971634, 0.1589999943971634, 0.16099999845027924, 0.16200000047683716, 0.164000004529953, 0.16500000655651093, 0.16500000655651093, 0.16599999368190765, 0.16699999570846558, 0.1679999977350235, 0.1679999977350235, 0.1679999977350235, 0.1679999977350235, 0.16899999976158142, 0.17000000178813934, 0.17000000178813934, 0.17000000178813934, 0.1720000058412552, 0.17800000309944153, 0.17800000309944153, 0.1889999955892563, 0.1889999955892563, 0.19200000166893005, 0.19499999284744263, 0.19499999284744263, 0.19900000095367432, 0.19900000095367432, 0.20000000298023224, 0.20000000298023224, 0.20000000298023224, 0.20000000298023224, 0.20000000298023224, 0.20000000298023224, 0.20000000298023224, 0.20000000298023224, 0.20100000500679016, 0.20100000500679016, 0.20100000500679016, 0.20100000500679016, 0.20100000500679016, 0.20000000298023224, 0.19900000095367432, 0.19699999690055847, 0.19699999690055847, 0.19499999284744263, 0.19499999284744263, 0.19499999284744263, 0.19499999284744263, 0.19599999487400055, 0.19699999690055847, 0.19900000095367432, 0.19900000095367432, 0.20399999618530273, 0.23800000548362732, 0.23800000548362732, 0.23800000548362732, 0.2329999953508377, 0.24400000274181366, 0.2460000067949295, 0.2460000067949295, 0.2460000067949295, 0.24899999797344208, 0.24899999797344208, 0.24799999594688416, 0.24799999594688416, 0.25, 0.25, 0.25, inf, 0.2529999911785126, 0.2529999911785126, 0.2529999911785126, 0.25099998712539673, inf, 0.2549999952316284, 0.2549999952316284, 0.2549999952316284, 0.26100000739097595, 0.2669999897480011, inf, inf, inf, inf, inf, inf, inf, inf, inf, inf, 1.281000018119812, 1.281000018119812, 1.281000018119812, 1.2680000066757202, 1.2630000114440918, 1.253999948501587, 1.253999948501587, 1.2489999532699585, 1.2380000352859497, 1.2330000400543213, 1.225000023841858, 1.225000023841858, inf, 0.37299999594688416, 0.37299999594688416, 0.37299999594688416, 0.3659999966621399, 0.3610000014305115, 0.3580000102519989, 0.3580000102519989, 0.35499998927116394, 0.35100001096725464, 0.3490000069141388, 0.3490000069141388, 0.34700000286102295, 0.3440000116825104, 0.3440000116825104, 0.3409999907016754, 0.33899998664855957, 0.33899998664855957, 0.335999995470047, 0.335999995470047, 0.33500000834465027, 0.33500000834465027, 0.33399999141693115, 0.3330000042915344, 0.3310000002384186, 0.3310000002384186, 0.3310000002384186, 0.3310000002384186, 0.3310000002384186, 0.3310000002384186, 0.3310000002384186, 0.3310000002384186, 0.3310000002384186, 0.3310000002384186, 0.3310000002384186, 0.33399999141693115, 0.33500000834465027, 0.33500000834465027, 0.335999995470047, 0.335999995470047, 0.335999995470047, 0.33899998664855957, 0.33899998664855957, 0.34200000762939453, 0.34599998593330383, 0.3499999940395355, 0.3499999940395355, 0.35499998927116394, 0.3610000014305115, 0.3610000014305115, 0.3619999885559082, 0.3619999885559082, 0.3610000014305115, 0.3610000014305115, 0.3610000014305115, 0.35899999737739563, 0.3580000102519989, 0.3569999933242798, 0.3569999933242798, 0.3540000021457672, 0.3540000021457672, 0.35199999809265137, 0.35199999809265137, 0.3499999940395355, 0.3499999940395355, 0.3490000069141388, 0.3479999899864197, 0.3479999899864197, 0.3479999899864197, 0.34700000286102295, 0.34599998593330383, 0.34700000286102295, 0.34700000286102295, 0.34700000286102295, 0.34700000286102295]\n",
    "len(lst)"
   ]
  }
 ],
 "metadata": {
  "kernelspec": {
   "display_name": "Python 3.8.10 ('env': venv)",
   "language": "python",
   "name": "python3"
  },
  "language_info": {
   "codemirror_mode": {
    "name": "ipython",
    "version": 3
   },
   "file_extension": ".py",
   "mimetype": "text/x-python",
   "name": "python",
   "nbconvert_exporter": "python",
   "pygments_lexer": "ipython3",
   "version": "3.8.10"
  },
  "orig_nbformat": 4,
  "vscode": {
   "interpreter": {
    "hash": "6b90dc0788c246071bf921efdac722ec4ee2dc1b4ca963a9bc9122db5d043bbe"
   }
  }
 },
 "nbformat": 4,
 "nbformat_minor": 2
}
